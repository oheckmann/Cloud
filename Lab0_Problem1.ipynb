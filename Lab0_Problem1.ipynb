{
  "nbformat": 4,
  "nbformat_minor": 0,
  "metadata": {
    "colab": {
      "name": "Lab0-Problem1.ipynb",
      "provenance": [],
      "authorship_tag": "ABX9TyNGiFa3fXHH87nDbv0Tw3eV",
      "include_colab_link": true
    },
    "kernelspec": {
      "name": "python3",
      "display_name": "Python 3"
    },
    "language_info": {
      "name": "python"
    }
  },
  "cells": [
    {
      "cell_type": "markdown",
      "metadata": {
        "id": "view-in-github",
        "colab_type": "text"
      },
      "source": [
        "<a href=\"https://colab.research.google.com/github/oheckmann/Cloud/blob/main/Lab0_Problem1.ipynb\" target=\"_parent\"><img src=\"https://colab.research.google.com/assets/colab-badge.svg\" alt=\"Open In Colab\"/></a>"
      ]
    },
    {
      "cell_type": "markdown",
      "source": [
        "Using code, I do things"
      ],
      "metadata": {
        "id": "uUbt_rp2alz6"
      }
    },
    {
      "cell_type": "code",
      "source": [
        "seconds_in_a_day = 24 * 60 * 60\n",
        "seconds_in_a_day"
      ],
      "metadata": {
        "colab": {
          "base_uri": "https://localhost:8080/"
        },
        "id": "MelXp3-IZ2O_",
        "outputId": "91193c42-c848-49f9-afe6-b65c574ab4cc"
      },
      "execution_count": 1,
      "outputs": [
        {
          "output_type": "execute_result",
          "data": {
            "text/plain": [
              "86400"
            ]
          },
          "metadata": {},
          "execution_count": 1
        }
      ]
    },
    {
      "cell_type": "code",
      "execution_count": 2,
      "metadata": {
        "colab": {
          "base_uri": "https://localhost:8080/"
        },
        "id": "v3SeN2phVfiF",
        "outputId": "03806760-75f7-4344-fe5f-5f15e208a5a6"
      },
      "outputs": [
        {
          "output_type": "stream",
          "name": "stdout",
          "text": [
            "Requirement already satisfied: matplotlib-venn in /usr/local/lib/python3.7/dist-packages (0.11.6)\n",
            "Requirement already satisfied: matplotlib in /usr/local/lib/python3.7/dist-packages (from matplotlib-venn) (3.2.2)\n",
            "Requirement already satisfied: scipy in /usr/local/lib/python3.7/dist-packages (from matplotlib-venn) (1.4.1)\n",
            "Requirement already satisfied: numpy in /usr/local/lib/python3.7/dist-packages (from matplotlib-venn) (1.19.5)\n",
            "Requirement already satisfied: python-dateutil>=2.1 in /usr/local/lib/python3.7/dist-packages (from matplotlib->matplotlib-venn) (2.8.2)\n",
            "Requirement already satisfied: pyparsing!=2.0.4,!=2.1.2,!=2.1.6,>=2.0.1 in /usr/local/lib/python3.7/dist-packages (from matplotlib->matplotlib-venn) (3.0.6)\n",
            "Requirement already satisfied: cycler>=0.10 in /usr/local/lib/python3.7/dist-packages (from matplotlib->matplotlib-venn) (0.11.0)\n",
            "Requirement already satisfied: kiwisolver>=1.0.1 in /usr/local/lib/python3.7/dist-packages (from matplotlib->matplotlib-venn) (1.3.2)\n",
            "Requirement already satisfied: six>=1.5 in /usr/local/lib/python3.7/dist-packages (from python-dateutil>=2.1->matplotlib->matplotlib-venn) (1.15.0)\n"
          ]
        }
      ],
      "source": [
        "!pip install matplotlib-venn"
      ]
    },
    {
      "cell_type": "code",
      "source": [
        "!pip3 install torch==1.2.0+cu92 torchvision==0.4.0+cu92 -f https://download.pytorch.org/whl/torch_stable.html"
      ],
      "metadata": {
        "colab": {
          "base_uri": "https://localhost:8080/"
        },
        "id": "9GNBM_Fchlfx",
        "outputId": "2d90139f-9b65-416b-98e4-5b746c8f098c"
      },
      "execution_count": 1,
      "outputs": [
        {
          "output_type": "stream",
          "name": "stdout",
          "text": [
            "Looking in links: https://download.pytorch.org/whl/torch_stable.html\n",
            "Collecting torch==1.2.0+cu92\n",
            "  Downloading https://download.pytorch.org/whl/cu92/torch-1.2.0%2Bcu92-cp37-cp37m-manylinux1_x86_64.whl (663.1 MB)\n",
            "\u001b[K     |████████████████████████████████| 663.1 MB 1.7 kB/s \n",
            "\u001b[?25hCollecting torchvision==0.4.0+cu92\n",
            "  Downloading https://download.pytorch.org/whl/cu92/torchvision-0.4.0%2Bcu92-cp37-cp37m-manylinux1_x86_64.whl (8.8 MB)\n",
            "\u001b[K     |████████████████████████████████| 8.8 MB 29.8 MB/s \n",
            "\u001b[?25hRequirement already satisfied: numpy in /usr/local/lib/python3.7/dist-packages (from torch==1.2.0+cu92) (1.18.5)\n",
            "Requirement already satisfied: pillow>=4.1.1 in /usr/local/lib/python3.7/dist-packages (from torchvision==0.4.0+cu92) (7.1.2)\n",
            "Requirement already satisfied: six in /usr/local/lib/python3.7/dist-packages (from torchvision==0.4.0+cu92) (1.15.0)\n",
            "Installing collected packages: torch, torchvision\n",
            "  Attempting uninstall: torch\n",
            "    Found existing installation: torch 1.10.0+cu111\n",
            "    Uninstalling torch-1.10.0+cu111:\n",
            "      Successfully uninstalled torch-1.10.0+cu111\n",
            "  Attempting uninstall: torchvision\n",
            "    Found existing installation: torchvision 0.11.1+cu111\n",
            "    Uninstalling torchvision-0.11.1+cu111:\n",
            "      Successfully uninstalled torchvision-0.11.1+cu111\n",
            "\u001b[31mERROR: pip's dependency resolver does not currently take into account all the packages that are installed. This behaviour is the source of the following dependency conflicts.\n",
            "torchtext 0.11.0 requires torch==1.10.0, but you have torch 1.2.0+cu92 which is incompatible.\n",
            "torchaudio 0.10.0+cu111 requires torch==1.10.0, but you have torch 1.2.0+cu92 which is incompatible.\u001b[0m\n",
            "Successfully installed torch-1.2.0+cu92 torchvision-0.4.0+cu92\n"
          ]
        }
      ]
    },
    {
      "cell_type": "code",
      "source": [
        "!pip install torchvision"
      ],
      "metadata": {
        "colab": {
          "base_uri": "https://localhost:8080/"
        },
        "id": "afg-iB6-hwSH",
        "outputId": "dc3d5cdd-7da4-4dac-e626-266ad2f0c311"
      },
      "execution_count": 2,
      "outputs": [
        {
          "output_type": "stream",
          "name": "stdout",
          "text": [
            "Requirement already satisfied: torchvision in /usr/local/lib/python3.7/dist-packages (0.4.0+cu92)\n",
            "Requirement already satisfied: numpy in /usr/local/lib/python3.7/dist-packages (from torchvision) (1.18.5)\n",
            "Requirement already satisfied: six in /usr/local/lib/python3.7/dist-packages (from torchvision) (1.15.0)\n",
            "Requirement already satisfied: pillow>=4.1.1 in /usr/local/lib/python3.7/dist-packages (from torchvision) (7.1.2)\n",
            "Requirement already satisfied: torch==1.2.0 in /usr/local/lib/python3.7/dist-packages (from torchvision) (1.2.0+cu92)\n"
          ]
        }
      ]
    },
    {
      "cell_type": "code",
      "source": [
        "from IPython.display import Image\n",
        "Image(\"chess.jpg\", width=600)"
      ],
      "metadata": {
        "id": "dQqm-GliqYLw"
      },
      "execution_count": null,
      "outputs": []
    },
    {
      "cell_type": "code",
      "source": [
        "img = Image(\"chess.jpg\")"
      ],
      "metadata": {
        "id": "Xu4YPh1Fsygz"
      },
      "execution_count": 5,
      "outputs": []
    },
    {
      "cell_type": "code",
      "source": [
        "from torchvision import models\n",
        "import torch\n",
        "from PIL import Image\n",
        "\n",
        "img = Image.open(\"chess.jpg\")\n",
        "img.show()\n",
        "\n",
        "from torchvision import transforms\n",
        "transform = transforms.Compose([\n",
        " transforms.Resize(256),                   \n",
        " transforms.CenterCrop(224),\n",
        " transforms.ToTensor(),\n",
        " transforms.Normalize(\n",
        " mean=[0.485, 0.456, 0.406],\n",
        " std=[0.229, 0.224, 0.225]\n",
        " )])\n",
        "\n",
        "with open('imagenet_classes.txt') as f:\n",
        "  labels = f.readlines()\n",
        "\n",
        "\n",
        "img_t = transform(img)\n",
        "batch_t = torch.unsqueeze(img_t, 0)\n",
        "\n",
        "batch_t = torch.unsqueeze(img_t, 0)\n",
        "\n",
        "resnet = models.resnet101(pretrained=True)\n",
        "resnet.eval()\n",
        "out = resnet(batch_t)\n",
        "_, indices = torch.sort(out, descending=True)\n",
        "percentage = torch.nn.functional.softmax(out, dim=1)[0] * 100\n",
        "[(labels[idx], percentage[idx].item()) for idx in indices[0][:5]]"
      ],
      "metadata": {
        "colab": {
          "base_uri": "https://localhost:8080/"
        },
        "id": "mNQCSCsStBRC",
        "outputId": "ba8eedaf-6c8c-4494-a9af-61da3feff01b"
      },
      "execution_count": 14,
      "outputs": [
        {
          "output_type": "execute_result",
          "data": {
            "text/plain": [
              "[('897, washer\\n', 23.116666793823242),\n",
              " ('722, ping-pong_ball\\n', 19.137065887451172),\n",
              " ('662, modem\\n', 12.545333862304688),\n",
              " ('840, swab\\n', 8.725973129272461),\n",
              " ('903, wig\\n', 8.598443031311035)]"
            ]
          },
          "metadata": {},
          "execution_count": 14
        }
      ]
    },
    {
      "cell_type": "code",
      "source": [
        "from torchvision import models\n",
        "import torch\n",
        "from PIL import Image\n",
        "\n",
        "img = Image.open(\"pizza.jpg\")\n",
        "img.show()\n",
        "\n",
        "from torchvision import transforms\n",
        "transform = transforms.Compose([\n",
        " transforms.Resize(256),                   \n",
        " transforms.CenterCrop(224),\n",
        " transforms.ToTensor(),\n",
        " transforms.Normalize(\n",
        " mean=[0.485, 0.456, 0.406],\n",
        " std=[0.229, 0.224, 0.225]\n",
        " )])\n",
        "\n",
        "with open('imagenet_classes.txt') as f:\n",
        "  labels = f.readlines()\n",
        "\n",
        "\n",
        "img_t = transform(img)\n",
        "batch_t = torch.unsqueeze(img_t, 0)\n",
        "\n",
        "batch_t = torch.unsqueeze(img_t, 0)\n",
        "\n",
        "resnet = models.resnet101(pretrained=True)\n",
        "resnet.eval()\n",
        "out = resnet(batch_t)\n",
        "_, indices = torch.sort(out, descending=True)\n",
        "percentage = torch.nn.functional.softmax(out, dim=1)[0] * 100\n",
        "[(labels[idx], percentage[idx].item()) for idx in indices[0][:5]]"
      ],
      "metadata": {
        "colab": {
          "base_uri": "https://localhost:8080/"
        },
        "id": "_-rAzBWrxhmK",
        "outputId": "c78295c9-1183-4047-e430-566cb6d46964"
      },
      "execution_count": 15,
      "outputs": [
        {
          "output_type": "execute_result",
          "data": {
            "text/plain": [
              "[('959, carbonara\\n', 87.9750747680664),\n",
              " ('926, hot_pot\\n', 8.55009651184082),\n",
              " ('958, hay\\n', 1.852846384048462),\n",
              " ('411, apron\\n', 0.5825054049491882),\n",
              " ('928, ice_cream\\n', 0.20361344516277313)]"
            ]
          },
          "metadata": {},
          "execution_count": 15
        }
      ]
    },
    {
      "cell_type": "code",
      "source": [
        "from torchvision import models\n",
        "import torch\n",
        "from PIL import Image\n",
        "\n",
        "img = Image.open(\"puppy.jpg\")\n",
        "img.show()\n",
        "\n",
        "from torchvision import transforms\n",
        "transform = transforms.Compose([\n",
        " transforms.Resize(256),                   \n",
        " transforms.CenterCrop(224),\n",
        " transforms.ToTensor(),\n",
        " transforms.Normalize(\n",
        " mean=[0.485, 0.456, 0.406],\n",
        " std=[0.229, 0.224, 0.225]\n",
        " )])\n",
        "\n",
        "with open('imagenet_classes.txt') as f:\n",
        "  labels = f.readlines()\n",
        "\n",
        "\n",
        "img_t = transform(img)\n",
        "batch_t = torch.unsqueeze(img_t, 0)\n",
        "\n",
        "batch_t = torch.unsqueeze(img_t, 0)\n",
        "\n",
        "resnet = models.resnet101(pretrained=True)\n",
        "resnet.eval()\n",
        "out = resnet(batch_t)\n",
        "_, indices = torch.sort(out, descending=True)\n",
        "percentage = torch.nn.functional.softmax(out, dim=1)[0] * 100\n",
        "[(labels[idx], percentage[idx].item()) for idx in indices[0][:5]]"
      ],
      "metadata": {
        "colab": {
          "base_uri": "https://localhost:8080/"
        },
        "id": "-xyWrCLcxwJE",
        "outputId": "ae52e4a4-7c3c-4537-9362-dafbdad4fddf"
      },
      "execution_count": 16,
      "outputs": [
        {
          "output_type": "execute_result",
          "data": {
            "text/plain": [
              "[('203, West_Highland_white_terrier\\n', 95.80868530273438),\n",
              " ('211, vizsla\\n', 0.8185554146766663),\n",
              " ('204, Lhasa\\n', 0.6832245588302612),\n",
              " ('848, tape_player\\n', 0.42960238456726074),\n",
              " ('215, Brittany_spaniel\\n', 0.3764533996582031)]"
            ]
          },
          "metadata": {},
          "execution_count": 16
        }
      ]
    },
    {
      "cell_type": "code",
      "source": [
        "from torchvision import models\n",
        "import torch\n",
        "from PIL import Image\n",
        "\n",
        "img = Image.open(\"rhino.jpg\")\n",
        "img.show()\n",
        "\n",
        "from torchvision import transforms\n",
        "transform = transforms.Compose([\n",
        " transforms.Resize(256),                   \n",
        " transforms.CenterCrop(224),\n",
        " transforms.ToTensor(),\n",
        " transforms.Normalize(\n",
        " mean=[0.485, 0.456, 0.406],\n",
        " std=[0.229, 0.224, 0.225]\n",
        " )])\n",
        "\n",
        "with open('imagenet_classes.txt') as f:\n",
        "  labels = f.readlines()\n",
        "\n",
        "\n",
        "img_t = transform(img)\n",
        "batch_t = torch.unsqueeze(img_t, 0)\n",
        "\n",
        "batch_t = torch.unsqueeze(img_t, 0)\n",
        "\n",
        "resnet = models.resnet101(pretrained=True)\n",
        "resnet.eval()\n",
        "out = resnet(batch_t)\n",
        "_, indices = torch.sort(out, descending=True)\n",
        "percentage = torch.nn.functional.softmax(out, dim=1)[0] * 100\n",
        "[(labels[idx], percentage[idx].item()) for idx in indices[0][:5]]"
      ],
      "metadata": {
        "colab": {
          "base_uri": "https://localhost:8080/"
        },
        "id": "eZxSzye20nFI",
        "outputId": "6b22f8ca-63a2-4337-faa0-c6ac075508ab"
      },
      "execution_count": 17,
      "outputs": [
        {
          "output_type": "execute_result",
          "data": {
            "text/plain": [
              "[('341, hog\\n', 58.8855094909668),\n",
              " ('97, drake\\n', 11.893798828125),\n",
              " ('381, spider_monkey\\n', 6.191695690155029),\n",
              " ('343, warthog\\n', 4.350386142730713),\n",
              " ('382, squirrel_monkey\\n', 3.2269179821014404)]"
            ]
          },
          "metadata": {},
          "execution_count": 17
        }
      ]
    },
    {
      "cell_type": "code",
      "source": [
        "from torchvision import models\n",
        "import torch\n",
        "from PIL import Image\n",
        "\n",
        "img = Image.open(\"skyscraper.jpg\")\n",
        "img.show()\n",
        "\n",
        "from torchvision import transforms\n",
        "transform = transforms.Compose([\n",
        " transforms.Resize(256),                   \n",
        " transforms.CenterCrop(224),\n",
        " transforms.ToTensor(),\n",
        " transforms.Normalize(\n",
        " mean=[0.485, 0.456, 0.406],\n",
        " std=[0.229, 0.224, 0.225]\n",
        " )])\n",
        "\n",
        "with open('imagenet_classes.txt') as f:\n",
        "  labels = f.readlines()\n",
        "\n",
        "\n",
        "img_t = transform(img)\n",
        "batch_t = torch.unsqueeze(img_t, 0)\n",
        "\n",
        "batch_t = torch.unsqueeze(img_t, 0)\n",
        "\n",
        "resnet = models.resnet101(pretrained=True)\n",
        "resnet.eval()\n",
        "out = resnet(batch_t)\n",
        "_, indices = torch.sort(out, descending=True)\n",
        "percentage = torch.nn.functional.softmax(out, dim=1)[0] * 100\n",
        "[(labels[idx], percentage[idx].item()) for idx in indices[0][:5]]"
      ],
      "metadata": {
        "colab": {
          "base_uri": "https://localhost:8080/"
        },
        "id": "IopeGd8b0qGB",
        "outputId": "195e2c91-0368-4f6d-8921-b5ac91d857b4"
      },
      "execution_count": 18,
      "outputs": [
        {
          "output_type": "execute_result",
          "data": {
            "text/plain": [
              "[('971, bubble\\n', 17.90146827697754),\n",
              " ('729, plate_rack\\n', 14.962599754333496),\n",
              " ('829, streetcar\\n', 12.391698837280273),\n",
              " ('532, dining_table\\n', 9.806520462036133),\n",
              " ('572, goblet\\n', 8.456892967224121)]"
            ]
          },
          "metadata": {},
          "execution_count": 18
        }
      ]
    }
  ]
}